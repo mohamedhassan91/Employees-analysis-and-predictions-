{
 "cells": [
  {
   "cell_type": "code",
   "execution_count": 2,
   "id": "5e1c191f",
   "metadata": {},
   "outputs": [],
   "source": [
    "import numpy as np\n",
    "import pandas as pd\n",
    "import matplotlib.pyplot as plt\n",
    "%matplotlib inline\n",
    "import seaborn as sns\n",
    "import matplotlib.ticker as ticker"
   ]
  },
  {
   "cell_type": "code",
   "execution_count": 3,
   "id": "e5b3f11e",
   "metadata": {},
   "outputs": [],
   "source": [
    "dataset = pd.read_csv('employees.csv')"
   ]
  },
  {
   "cell_type": "markdown",
   "id": "3a7806f0",
   "metadata": {},
   "source": [
    "## load the data"
   ]
  },
  {
   "cell_type": "code",
   "execution_count": 4,
   "id": "50d738c4",
   "metadata": {},
   "outputs": [
    {
     "data": {
      "text/html": [
       "<div>\n",
       "<style scoped>\n",
       "    .dataframe tbody tr th:only-of-type {\n",
       "        vertical-align: middle;\n",
       "    }\n",
       "\n",
       "    .dataframe tbody tr th {\n",
       "        vertical-align: top;\n",
       "    }\n",
       "\n",
       "    .dataframe thead th {\n",
       "        text-align: right;\n",
       "    }\n",
       "</style>\n",
       "<table border=\"1\" class=\"dataframe\">\n",
       "  <thead>\n",
       "    <tr style=\"text-align: right;\">\n",
       "      <th></th>\n",
       "      <th>emp_no</th>\n",
       "      <th>birth_date</th>\n",
       "      <th>first_name</th>\n",
       "      <th>last_name</th>\n",
       "      <th>gender</th>\n",
       "      <th>hire_date</th>\n",
       "      <th>salary</th>\n",
       "      <th>title</th>\n",
       "      <th>dept_no</th>\n",
       "    </tr>\n",
       "  </thead>\n",
       "  <tbody>\n",
       "    <tr>\n",
       "      <th>0</th>\n",
       "      <td>10001</td>\n",
       "      <td>1953-09-02</td>\n",
       "      <td>Georgi</td>\n",
       "      <td>Facello</td>\n",
       "      <td>M</td>\n",
       "      <td>1986-06-26</td>\n",
       "      <td>60117</td>\n",
       "      <td>Senior Engineer</td>\n",
       "      <td>d005</td>\n",
       "    </tr>\n",
       "    <tr>\n",
       "      <th>1</th>\n",
       "      <td>10002</td>\n",
       "      <td>1964-06-02</td>\n",
       "      <td>Bezalel</td>\n",
       "      <td>Simmel</td>\n",
       "      <td>F</td>\n",
       "      <td>1985-11-21</td>\n",
       "      <td>65828</td>\n",
       "      <td>Staff</td>\n",
       "      <td>d007</td>\n",
       "    </tr>\n",
       "    <tr>\n",
       "      <th>2</th>\n",
       "      <td>10003</td>\n",
       "      <td>1959-12-03</td>\n",
       "      <td>Parto</td>\n",
       "      <td>Bamford</td>\n",
       "      <td>M</td>\n",
       "      <td>1986-08-28</td>\n",
       "      <td>40006</td>\n",
       "      <td>Senior Engineer</td>\n",
       "      <td>d004</td>\n",
       "    </tr>\n",
       "    <tr>\n",
       "      <th>3</th>\n",
       "      <td>10004</td>\n",
       "      <td>1954-05-01</td>\n",
       "      <td>Chirstian</td>\n",
       "      <td>Koblick</td>\n",
       "      <td>M</td>\n",
       "      <td>1986-12-01</td>\n",
       "      <td>40054</td>\n",
       "      <td>Engineer</td>\n",
       "      <td>d004</td>\n",
       "    </tr>\n",
       "    <tr>\n",
       "      <th>4</th>\n",
       "      <td>10005</td>\n",
       "      <td>1955-01-21</td>\n",
       "      <td>Kyoichi</td>\n",
       "      <td>Maliniak</td>\n",
       "      <td>M</td>\n",
       "      <td>1989-09-12</td>\n",
       "      <td>78228</td>\n",
       "      <td>Senior Staff</td>\n",
       "      <td>d003</td>\n",
       "    </tr>\n",
       "  </tbody>\n",
       "</table>\n",
       "</div>"
      ],
      "text/plain": [
       "   emp_no  birth_date first_name last_name gender   hire_date  salary  \\\n",
       "0   10001  1953-09-02     Georgi   Facello      M  1986-06-26   60117   \n",
       "1   10002  1964-06-02    Bezalel    Simmel      F  1985-11-21   65828   \n",
       "2   10003  1959-12-03      Parto   Bamford      M  1986-08-28   40006   \n",
       "3   10004  1954-05-01  Chirstian   Koblick      M  1986-12-01   40054   \n",
       "4   10005  1955-01-21    Kyoichi  Maliniak      M  1989-09-12   78228   \n",
       "\n",
       "             title dept_no  \n",
       "0  Senior Engineer    d005  \n",
       "1            Staff    d007  \n",
       "2  Senior Engineer    d004  \n",
       "3         Engineer    d004  \n",
       "4     Senior Staff    d003  "
      ]
     },
     "execution_count": 4,
     "metadata": {},
     "output_type": "execute_result"
    }
   ],
   "source": [
    "dataset.head()"
   ]
  },
  {
   "cell_type": "code",
   "execution_count": 5,
   "id": "34efb869",
   "metadata": {},
   "outputs": [
    {
     "name": "stdout",
     "output_type": "stream",
     "text": [
      "<class 'pandas.core.frame.DataFrame'>\n",
      "RangeIndex: 101796 entries, 0 to 101795\n",
      "Data columns (total 9 columns):\n",
      " #   Column      Non-Null Count   Dtype \n",
      "---  ------      --------------   ----- \n",
      " 0   emp_no      101796 non-null  int64 \n",
      " 1   birth_date  101796 non-null  object\n",
      " 2   first_name  101796 non-null  object\n",
      " 3   last_name   101796 non-null  object\n",
      " 4   gender      101796 non-null  object\n",
      " 5   hire_date   101796 non-null  object\n",
      " 6   salary      101796 non-null  int64 \n",
      " 7   title       101796 non-null  object\n",
      " 8   dept_no     101796 non-null  object\n",
      "dtypes: int64(2), object(7)\n",
      "memory usage: 7.0+ MB\n"
     ]
    }
   ],
   "source": [
    "dataset.info()"
   ]
  },
  {
   "cell_type": "code",
   "execution_count": 65,
   "id": "317b5373",
   "metadata": {},
   "outputs": [
    {
     "data": {
      "text/plain": [
       "<AxesSubplot:>"
      ]
     },
     "execution_count": 65,
     "metadata": {},
     "output_type": "execute_result"
    },
    {
     "data": {
      "image/png": "[encoded data removed]",
      "text/plain": [
       "<Figure size 432x288 with 1 Axes>"
      ]
     },
     "metadata": {
      "needs_background": "light"
     },
     "output_type": "display_data"
    }
   ],
   "source": [
    "dataset['salary'].hist()"
   ]
  },
  {
   "cell_type": "code",
   "execution_count": 7,
   "id": "86c4e333",
   "metadata": {},
   "outputs": [
    {
     "data": {
      "text/html": [
       "<div>\n",
       "<style scoped>\n",
       "    .dataframe tbody tr th:only-of-type {\n",
       "        vertical-align: middle;\n",
       "    }\n",
       "\n",
       "    .dataframe tbody tr th {\n",
       "        vertical-align: top;\n",
       "    }\n",
       "\n",
       "    .dataframe thead th {\n",
       "        text-align: right;\n",
       "    }\n",
       "</style>\n",
       "<table border=\"1\" class=\"dataframe\">\n",
       "  <thead>\n",
       "    <tr style=\"text-align: right;\">\n",
       "      <th></th>\n",
       "      <th>emp_no</th>\n",
       "      <th>salary</th>\n",
       "    </tr>\n",
       "  </thead>\n",
       "  <tbody>\n",
       "    <tr>\n",
       "      <th>count</th>\n",
       "      <td>101796.000000</td>\n",
       "      <td>101796.000000</td>\n",
       "    </tr>\n",
       "    <tr>\n",
       "      <th>mean</th>\n",
       "      <td>62464.908700</td>\n",
       "      <td>52930.057389</td>\n",
       "    </tr>\n",
       "    <tr>\n",
       "      <th>std</th>\n",
       "      <td>34039.578508</td>\n",
       "      <td>14330.979073</td>\n",
       "    </tr>\n",
       "    <tr>\n",
       "      <th>min</th>\n",
       "      <td>10001.000000</td>\n",
       "      <td>40000.000000</td>\n",
       "    </tr>\n",
       "    <tr>\n",
       "      <th>25%</th>\n",
       "      <td>35449.750000</td>\n",
       "      <td>40000.000000</td>\n",
       "    </tr>\n",
       "    <tr>\n",
       "      <th>50%</th>\n",
       "      <td>60898.500000</td>\n",
       "      <td>48543.000000</td>\n",
       "    </tr>\n",
       "    <tr>\n",
       "      <th>75%</th>\n",
       "      <td>86347.250000</td>\n",
       "      <td>61710.500000</td>\n",
       "    </tr>\n",
       "    <tr>\n",
       "      <th>max</th>\n",
       "      <td>201771.000000</td>\n",
       "      <td>127238.000000</td>\n",
       "    </tr>\n",
       "  </tbody>\n",
       "</table>\n",
       "</div>"
      ],
      "text/plain": [
       "              emp_no         salary\n",
       "count  101796.000000  101796.000000\n",
       "mean    62464.908700   52930.057389\n",
       "std     34039.578508   14330.979073\n",
       "min     10001.000000   40000.000000\n",
       "25%     35449.750000   40000.000000\n",
       "50%     60898.500000   48543.000000\n",
       "75%     86347.250000   61710.500000\n",
       "max    201771.000000  127238.000000"
      ]
     },
     "execution_count": 7,
     "metadata": {},
     "output_type": "execute_result"
    }
   ],
   "source": [
    "dataset.describe()"
   ]
  },
  {
   "cell_type": "markdown",
   "id": "bfbcf0c4",
   "metadata": {},
   "source": [
    "## converting to date time object"
   ]
  },
  {
   "cell_type": "code",
   "execution_count": 8,
   "id": "162072d5",
   "metadata": {},
   "outputs": [],
   "source": [
    "#converting objects to date \n",
    "dataset[['birth_date','hire_date']] = dataset[['birth_date','hire_date']].apply(pd.to_datetime)"
   ]
  },
  {
   "cell_type": "code",
   "execution_count": 9,
   "id": "d5b5430d",
   "metadata": {},
   "outputs": [
    {
     "name": "stdout",
     "output_type": "stream",
     "text": [
      "<class 'pandas.core.frame.DataFrame'>\n",
      "RangeIndex: 101796 entries, 0 to 101795\n",
      "Data columns (total 9 columns):\n",
      " #   Column      Non-Null Count   Dtype         \n",
      "---  ------      --------------   -----         \n",
      " 0   emp_no      101796 non-null  int64         \n",
      " 1   birth_date  101796 non-null  datetime64[ns]\n",
      " 2   first_name  101796 non-null  object        \n",
      " 3   last_name   101796 non-null  object        \n",
      " 4   gender      101796 non-null  object        \n",
      " 5   hire_date   101796 non-null  datetime64[ns]\n",
      " 6   salary      101796 non-null  int64         \n",
      " 7   title       101796 non-null  object        \n",
      " 8   dept_no     101796 non-null  object        \n",
      "dtypes: datetime64[ns](2), int64(2), object(5)\n",
      "memory usage: 7.0+ MB\n"
     ]
    }
   ],
   "source": [
    "dataset.info()"
   ]
  },
  {
   "cell_type": "markdown",
   "id": "ee1d8de9",
   "metadata": {},
   "source": [
    "## Inserting a new colomn for the age when hired"
   ]
  },
  {
   "cell_type": "code",
   "execution_count": 10,
   "id": "441b0c04",
   "metadata": {},
   "outputs": [],
   "source": [
    "# will make a new coloumn the age when hired\n",
    "dataset['age'] = round((dataset['hire_date'] - dataset['birth_date'])/np.timedelta64(1,'Y'),0)"
   ]
  },
  {
   "cell_type": "code",
   "execution_count": 11,
   "id": "2523095c",
   "metadata": {},
   "outputs": [
    {
     "data": {
      "text/html": [
       "<div>\n",
       "<style scoped>\n",
       "    .dataframe tbody tr th:only-of-type {\n",
       "        vertical-align: middle;\n",
       "    }\n",
       "\n",
       "    .dataframe tbody tr th {\n",
       "        vertical-align: top;\n",
       "    }\n",
       "\n",
       "    .dataframe thead th {\n",
       "        text-align: right;\n",
       "    }\n",
       "</style>\n",
       "<table border=\"1\" class=\"dataframe\">\n",
       "  <thead>\n",
       "    <tr style=\"text-align: right;\">\n",
       "      <th></th>\n",
       "      <th>emp_no</th>\n",
       "      <th>birth_date</th>\n",
       "      <th>first_name</th>\n",
       "      <th>last_name</th>\n",
       "      <th>gender</th>\n",
       "      <th>hire_date</th>\n",
       "      <th>salary</th>\n",
       "      <th>title</th>\n",
       "      <th>dept_no</th>\n",
       "      <th>age</th>\n",
       "    </tr>\n",
       "  </thead>\n",
       "  <tbody>\n",
       "    <tr>\n",
       "      <th>0</th>\n",
       "      <td>10001</td>\n",
       "      <td>1953-09-02</td>\n",
       "      <td>Georgi</td>\n",
       "      <td>Facello</td>\n",
       "      <td>M</td>\n",
       "      <td>1986-06-26</td>\n",
       "      <td>60117</td>\n",
       "      <td>Senior Engineer</td>\n",
       "      <td>d005</td>\n",
       "      <td>33.0</td>\n",
       "    </tr>\n",
       "    <tr>\n",
       "      <th>1</th>\n",
       "      <td>10002</td>\n",
       "      <td>1964-06-02</td>\n",
       "      <td>Bezalel</td>\n",
       "      <td>Simmel</td>\n",
       "      <td>F</td>\n",
       "      <td>1985-11-21</td>\n",
       "      <td>65828</td>\n",
       "      <td>Staff</td>\n",
       "      <td>d007</td>\n",
       "      <td>21.0</td>\n",
       "    </tr>\n",
       "    <tr>\n",
       "      <th>2</th>\n",
       "      <td>10003</td>\n",
       "      <td>1959-12-03</td>\n",
       "      <td>Parto</td>\n",
       "      <td>Bamford</td>\n",
       "      <td>M</td>\n",
       "      <td>1986-08-28</td>\n",
       "      <td>40006</td>\n",
       "      <td>Senior Engineer</td>\n",
       "      <td>d004</td>\n",
       "      <td>27.0</td>\n",
       "    </tr>\n",
       "    <tr>\n",
       "      <th>3</th>\n",
       "      <td>10004</td>\n",
       "      <td>1954-05-01</td>\n",
       "      <td>Chirstian</td>\n",
       "      <td>Koblick</td>\n",
       "      <td>M</td>\n",
       "      <td>1986-12-01</td>\n",
       "      <td>40054</td>\n",
       "      <td>Engineer</td>\n",
       "      <td>d004</td>\n",
       "      <td>33.0</td>\n",
       "    </tr>\n",
       "    <tr>\n",
       "      <th>4</th>\n",
       "      <td>10005</td>\n",
       "      <td>1955-01-21</td>\n",
       "      <td>Kyoichi</td>\n",
       "      <td>Maliniak</td>\n",
       "      <td>M</td>\n",
       "      <td>1989-09-12</td>\n",
       "      <td>78228</td>\n",
       "      <td>Senior Staff</td>\n",
       "      <td>d003</td>\n",
       "      <td>35.0</td>\n",
       "    </tr>\n",
       "    <tr>\n",
       "      <th>...</th>\n",
       "      <td>...</td>\n",
       "      <td>...</td>\n",
       "      <td>...</td>\n",
       "      <td>...</td>\n",
       "      <td>...</td>\n",
       "      <td>...</td>\n",
       "      <td>...</td>\n",
       "      <td>...</td>\n",
       "      <td>...</td>\n",
       "      <td>...</td>\n",
       "    </tr>\n",
       "    <tr>\n",
       "      <th>101791</th>\n",
       "      <td>201767</td>\n",
       "      <td>1961-12-31</td>\n",
       "      <td>Divier</td>\n",
       "      <td>Basart</td>\n",
       "      <td>F</td>\n",
       "      <td>1989-03-07</td>\n",
       "      <td>47097</td>\n",
       "      <td>Staff</td>\n",
       "      <td>d001</td>\n",
       "      <td>27.0</td>\n",
       "    </tr>\n",
       "    <tr>\n",
       "      <th>101792</th>\n",
       "      <td>201768</td>\n",
       "      <td>1963-02-20</td>\n",
       "      <td>Aksel</td>\n",
       "      <td>Muhling</td>\n",
       "      <td>M</td>\n",
       "      <td>1997-10-11</td>\n",
       "      <td>40000</td>\n",
       "      <td>Assistant Engineer</td>\n",
       "      <td>d004</td>\n",
       "      <td>35.0</td>\n",
       "    </tr>\n",
       "    <tr>\n",
       "      <th>101793</th>\n",
       "      <td>201769</td>\n",
       "      <td>1961-11-06</td>\n",
       "      <td>Jayesh</td>\n",
       "      <td>Merel</td>\n",
       "      <td>M</td>\n",
       "      <td>1992-09-26</td>\n",
       "      <td>48427</td>\n",
       "      <td>Technique Leader</td>\n",
       "      <td>d004</td>\n",
       "      <td>31.0</td>\n",
       "    </tr>\n",
       "    <tr>\n",
       "      <th>101794</th>\n",
       "      <td>201770</td>\n",
       "      <td>1953-01-22</td>\n",
       "      <td>Weijing</td>\n",
       "      <td>Rodham</td>\n",
       "      <td>F</td>\n",
       "      <td>1992-12-06</td>\n",
       "      <td>66998</td>\n",
       "      <td>Senior Staff</td>\n",
       "      <td>d007</td>\n",
       "      <td>40.0</td>\n",
       "    </tr>\n",
       "    <tr>\n",
       "      <th>101795</th>\n",
       "      <td>201771</td>\n",
       "      <td>1962-12-24</td>\n",
       "      <td>Fumitaka</td>\n",
       "      <td>Gammage</td>\n",
       "      <td>F</td>\n",
       "      <td>1985-10-13</td>\n",
       "      <td>48919</td>\n",
       "      <td>Engineer</td>\n",
       "      <td>d005</td>\n",
       "      <td>23.0</td>\n",
       "    </tr>\n",
       "  </tbody>\n",
       "</table>\n",
       "<p>101796 rows × 10 columns</p>\n",
       "</div>"
      ],
      "text/plain": [
       "        emp_no birth_date first_name last_name gender  hire_date  salary  \\\n",
       "0        10001 1953-09-02     Georgi   Facello      M 1986-06-26   60117   \n",
       "1        10002 1964-06-02    Bezalel    Simmel      F 1985-11-21   65828   \n",
       "2        10003 1959-12-03      Parto   Bamford      M 1986-08-28   40006   \n",
       "3        10004 1954-05-01  Chirstian   Koblick      M 1986-12-01   40054   \n",
       "4        10005 1955-01-21    Kyoichi  Maliniak      M 1989-09-12   78228   \n",
       "...        ...        ...        ...       ...    ...        ...     ...   \n",
       "101791  201767 1961-12-31     Divier    Basart      F 1989-03-07   47097   \n",
       "101792  201768 1963-02-20      Aksel   Muhling      M 1997-10-11   40000   \n",
       "101793  201769 1961-11-06     Jayesh     Merel      M 1992-09-26   48427   \n",
       "101794  201770 1953-01-22    Weijing    Rodham      F 1992-12-06   66998   \n",
       "101795  201771 1962-12-24   Fumitaka   Gammage      F 1985-10-13   48919   \n",
       "\n",
       "                     title dept_no   age  \n",
       "0          Senior Engineer    d005  33.0  \n",
       "1                    Staff    d007  21.0  \n",
       "2          Senior Engineer    d004  27.0  \n",
       "3                 Engineer    d004  33.0  \n",
       "4             Senior Staff    d003  35.0  \n",
       "...                    ...     ...   ...  \n",
       "101791               Staff    d001  27.0  \n",
       "101792  Assistant Engineer    d004  35.0  \n",
       "101793    Technique Leader    d004  31.0  \n",
       "101794        Senior Staff    d007  40.0  \n",
       "101795            Engineer    d005  23.0  \n",
       "\n",
       "[101796 rows x 10 columns]"
      ]
     },
     "execution_count": 11,
     "metadata": {},
     "output_type": "execute_result"
    }
   ],
   "source": [
    "dataset"
   ]
  },
  {
   "cell_type": "markdown",
   "id": "048d9f1a",
   "metadata": {},
   "source": [
    "## Data visualization and pre-processing"
   ]
  },
  {
   "cell_type": "code",
   "execution_count": 12,
   "id": "080a86c5",
   "metadata": {},
   "outputs": [
    {
     "data": {
      "text/plain": [
       "<AxesSubplot:xlabel='count', ylabel='gender'>"
      ]
     },
     "execution_count": 12,
     "metadata": {},
     "output_type": "execute_result"
    },
    {
     "data": {
      "image/png": "[encoded data removed]",
      "text/plain": [
       "<Figure size 504x216 with 1 Axes>"
      ]
     },
     "metadata": {
      "needs_background": "light"
     },
     "output_type": "display_data"
    }
   ],
   "source": [
    "# distrbution of the gender \n",
    "f, ax = plt.subplots(figsize=(7, 3))\n",
    "sns.countplot(y=\"gender\", data=dataset, color=\"c\")"
   ]
  },
  {
   "cell_type": "code",
   "execution_count": 13,
   "id": "28681797",
   "metadata": {},
   "outputs": [
    {
     "name": "stderr",
     "output_type": "stream",
     "text": [
      "C:\\Users\\LEN0VO_2021\\anaconda3\\lib\\site-packages\\seaborn\\distributions.py:2557: FutureWarning: `distplot` is a deprecated function and will be removed in a future version. Please adapt your code to use either `displot` (a figure-level function with similar flexibility) or `histplot` (an axes-level function for histograms).\n",
      "  warnings.warn(msg, FutureWarning)\n"
     ]
    },
    {
     "data": {
      "text/plain": [
       "<AxesSubplot:xlabel='age'>"
      ]
     },
     "execution_count": 13,
     "metadata": {},
     "output_type": "execute_result"
    },
    {
     "data": {
      "image/png": "[encoded data removed]",
      "text/plain": [
       "<Figure size 432x288 with 1 Axes>"
      ]
     },
     "metadata": {
      "needs_background": "light"
     },
     "output_type": "display_data"
    }
   ],
   "source": [
    "#lets see the age distrbution \n",
    "sns.distplot(dataset['age'], bins=10, kde=False)"
   ]
  },
  {
   "cell_type": "code",
   "execution_count": 14,
   "id": "8455c043",
   "metadata": {},
   "outputs": [
    {
     "data": {
      "text/html": [
       "<div>\n",
       "<style scoped>\n",
       "    .dataframe tbody tr th:only-of-type {\n",
       "        vertical-align: middle;\n",
       "    }\n",
       "\n",
       "    .dataframe tbody tr th {\n",
       "        vertical-align: top;\n",
       "    }\n",
       "\n",
       "    .dataframe thead th {\n",
       "        text-align: right;\n",
       "    }\n",
       "</style>\n",
       "<table border=\"1\" class=\"dataframe\">\n",
       "  <thead>\n",
       "    <tr style=\"text-align: right;\">\n",
       "      <th></th>\n",
       "      <th>emp_no</th>\n",
       "      <th>salary</th>\n",
       "      <th>age</th>\n",
       "    </tr>\n",
       "  </thead>\n",
       "  <tbody>\n",
       "    <tr>\n",
       "      <th>count</th>\n",
       "      <td>101796.000000</td>\n",
       "      <td>101796.000000</td>\n",
       "      <td>101796.000000</td>\n",
       "    </tr>\n",
       "    <tr>\n",
       "      <th>mean</th>\n",
       "      <td>62464.908700</td>\n",
       "      <td>52930.057389</td>\n",
       "      <td>31.511572</td>\n",
       "    </tr>\n",
       "    <tr>\n",
       "      <th>std</th>\n",
       "      <td>34039.578508</td>\n",
       "      <td>14330.979073</td>\n",
       "      <td>5.143374</td>\n",
       "    </tr>\n",
       "    <tr>\n",
       "      <th>min</th>\n",
       "      <td>10001.000000</td>\n",
       "      <td>40000.000000</td>\n",
       "      <td>20.000000</td>\n",
       "    </tr>\n",
       "    <tr>\n",
       "      <th>25%</th>\n",
       "      <td>35449.750000</td>\n",
       "      <td>40000.000000</td>\n",
       "      <td>28.000000</td>\n",
       "    </tr>\n",
       "    <tr>\n",
       "      <th>50%</th>\n",
       "      <td>60898.500000</td>\n",
       "      <td>48543.000000</td>\n",
       "      <td>31.000000</td>\n",
       "    </tr>\n",
       "    <tr>\n",
       "      <th>75%</th>\n",
       "      <td>86347.250000</td>\n",
       "      <td>61710.500000</td>\n",
       "      <td>35.000000</td>\n",
       "    </tr>\n",
       "    <tr>\n",
       "      <th>max</th>\n",
       "      <td>201771.000000</td>\n",
       "      <td>127238.000000</td>\n",
       "      <td>48.000000</td>\n",
       "    </tr>\n",
       "  </tbody>\n",
       "</table>\n",
       "</div>"
      ],
      "text/plain": [
       "              emp_no         salary            age\n",
       "count  101796.000000  101796.000000  101796.000000\n",
       "mean    62464.908700   52930.057389      31.511572\n",
       "std     34039.578508   14330.979073       5.143374\n",
       "min     10001.000000   40000.000000      20.000000\n",
       "25%     35449.750000   40000.000000      28.000000\n",
       "50%     60898.500000   48543.000000      31.000000\n",
       "75%     86347.250000   61710.500000      35.000000\n",
       "max    201771.000000  127238.000000      48.000000"
      ]
     },
     "execution_count": 14,
     "metadata": {},
     "output_type": "execute_result"
    }
   ],
   "source": [
    "dataset.describe()"
   ]
  },
  {
   "cell_type": "code",
   "execution_count": 15,
   "id": "e99091ca",
   "metadata": {},
   "outputs": [
    {
     "data": {
      "text/plain": [
       "<matplotlib.colors.LinearSegmentedColormap at 0x20a424973a0>"
      ]
     },
     "execution_count": 15,
     "metadata": {},
     "output_type": "execute_result"
    },
    {
     "data": {
      "image/png": "[encoded data removed]",
      "text/plain": [
       "<Figure size 432x216 with 2 Axes>"
      ]
     },
     "metadata": {
      "needs_background": "light"
     },
     "output_type": "display_data"
    }
   ],
   "source": [
    "# distrbution of ages vs the gender \n",
    "g = sns.FacetGrid(dataset, col=\"gender\")\n",
    "g.map(sns.histplot, \"age\")\n",
    "sns.color_palette(\"YlOrBr\", as_cmap=True)"
   ]
  },
  {
   "cell_type": "code",
   "execution_count": 16,
   "id": "6e4a35f9",
   "metadata": {},
   "outputs": [
    {
     "name": "stderr",
     "output_type": "stream",
     "text": [
      "C:\\Users\\LEN0VO_2021\\anaconda3\\lib\\site-packages\\seaborn\\_decorators.py:36: FutureWarning: Pass the following variable as a keyword arg: x. From version 0.12, the only valid positional argument will be `data`, and passing other arguments without an explicit keyword will result in an error or misinterpretation.\n",
      "  warnings.warn(\n"
     ]
    },
    {
     "data": {
      "text/plain": [
       "<AxesSubplot:xlabel='dept_no', ylabel='count'>"
      ]
     },
     "execution_count": 16,
     "metadata": {},
     "output_type": "execute_result"
    },
    {
     "data": {
      "image/png": "[encoded data removed]",
      "text/plain": [
       "<Figure size 432x288 with 1 Axes>"
      ]
     },
     "metadata": {
      "needs_background": "light"
     },
     "output_type": "display_data"
    }
   ],
   "source": [
    "#counting the departmets \n",
    "sns.countplot(dataset['dept_no'])"
   ]
  },
  {
   "cell_type": "code",
   "execution_count": 17,
   "id": "ceddebf3",
   "metadata": {},
   "outputs": [
    {
     "data": {
      "text/plain": [
       "<seaborn.axisgrid.FacetGrid at 0x20a461b8b80>"
      ]
     },
     "execution_count": 17,
     "metadata": {},
     "output_type": "execute_result"
    },
    {
     "data": {
      "image/png": "[encoded data removed]",
      "text/plain": [
       "<Figure size 1008x288 with 7 Axes>"
      ]
     },
     "metadata": {
      "needs_background": "light"
     },
     "output_type": "display_data"
    }
   ],
   "source": [
    "#distrbution of the titles per gender \n",
    "g = sns.FacetGrid(dataset, col=\"title\", height=4, aspect=.5)\n",
    "g.map(sns.barplot, \"gender\", \"salary\", order=[\"M\", \"F\"])"
   ]
  },
  {
   "cell_type": "code",
   "execution_count": 18,
   "id": "df5ede7f",
   "metadata": {},
   "outputs": [
    {
     "data": {
      "image/png": "[encoded data removed]",
      "text/plain": [
       "<Figure size 720x720 with 1 Axes>"
      ]
     },
     "metadata": {
      "needs_background": "light"
     },
     "output_type": "display_data"
    }
   ],
   "source": [
    "#box blot to check the outliers and graph the mean of the numeric numbers\n",
    "fig, ax = plt.subplots(figsize=(10, 10))\n",
    "sns.boxplot(ax=ax, data=dataset);"
   ]
  },
  {
   "cell_type": "code",
   "execution_count": 19,
   "id": "ff08fe6e",
   "metadata": {},
   "outputs": [
    {
     "name": "stderr",
     "output_type": "stream",
     "text": [
      "C:\\Users\\LEN0VO_2021\\anaconda3\\lib\\site-packages\\seaborn\\_decorators.py:36: FutureWarning: Pass the following variable as a keyword arg: x. From version 0.12, the only valid positional argument will be `data`, and passing other arguments without an explicit keyword will result in an error or misinterpretation.\n",
      "  warnings.warn(\n"
     ]
    },
    {
     "data": {
      "image/png": "[encoded data removed]",
      "text/plain": [
       "<Figure size 432x288 with 1 Axes>"
      ]
     },
     "metadata": {
      "needs_background": "light"
     },
     "output_type": "display_data"
    }
   ],
   "source": [
    "#counting the departmets \n",
    "ax =sns.countplot(dataset['title'] , data = dataset.sort_values('title', ascending=False))\n",
    "plot = ax.set_xticklabels(ax.get_xticklabels(), rotation=90)\n",
    "ax.yaxis.set_major_formatter(ticker.FuncFormatter(lambda x, pos:'{:,.0f}'.format(x/1000) + 'K'))"
   ]
  },
  {
   "cell_type": "code",
   "execution_count": 20,
   "id": "1e7c5efd",
   "metadata": {},
   "outputs": [
    {
     "data": {
      "text/plain": [
       "<AxesSubplot:xlabel='gender', ylabel='age'>"
      ]
     },
     "execution_count": 20,
     "metadata": {},
     "output_type": "execute_result"
    },
    {
     "data": {
      "image/png": "[encoded data removed]",
      "text/plain": [
       "<Figure size 432x288 with 1 Axes>"
      ]
     },
     "metadata": {
      "needs_background": "light"
     },
     "output_type": "display_data"
    }
   ],
   "source": [
    "# boxblot for the age and gender\n",
    "sns.boxplot(x='gender', y='age', data=dataset)"
   ]
  },
  {
   "cell_type": "code",
   "execution_count": 21,
   "id": "997cecab",
   "metadata": {},
   "outputs": [
    {
     "data": {
      "text/html": [
       "<div>\n",
       "<style scoped>\n",
       "    .dataframe tbody tr th:only-of-type {\n",
       "        vertical-align: middle;\n",
       "    }\n",
       "\n",
       "    .dataframe tbody tr th {\n",
       "        vertical-align: top;\n",
       "    }\n",
       "\n",
       "    .dataframe thead th {\n",
       "        text-align: right;\n",
       "    }\n",
       "</style>\n",
       "<table border=\"1\" class=\"dataframe\">\n",
       "  <thead>\n",
       "    <tr style=\"text-align: right;\">\n",
       "      <th></th>\n",
       "      <th>emp_no</th>\n",
       "      <th>birth_date</th>\n",
       "      <th>first_name</th>\n",
       "      <th>last_name</th>\n",
       "      <th>gender</th>\n",
       "      <th>hire_date</th>\n",
       "      <th>salary</th>\n",
       "      <th>title</th>\n",
       "      <th>dept_no</th>\n",
       "      <th>age</th>\n",
       "    </tr>\n",
       "  </thead>\n",
       "  <tbody>\n",
       "    <tr>\n",
       "      <th>0</th>\n",
       "      <td>10001</td>\n",
       "      <td>1953-09-02</td>\n",
       "      <td>Georgi</td>\n",
       "      <td>Facello</td>\n",
       "      <td>0</td>\n",
       "      <td>1986-06-26</td>\n",
       "      <td>60117</td>\n",
       "      <td>Senior Engineer</td>\n",
       "      <td>d005</td>\n",
       "      <td>33.0</td>\n",
       "    </tr>\n",
       "    <tr>\n",
       "      <th>1</th>\n",
       "      <td>10002</td>\n",
       "      <td>1964-06-02</td>\n",
       "      <td>Bezalel</td>\n",
       "      <td>Simmel</td>\n",
       "      <td>1</td>\n",
       "      <td>1985-11-21</td>\n",
       "      <td>65828</td>\n",
       "      <td>Staff</td>\n",
       "      <td>d007</td>\n",
       "      <td>21.0</td>\n",
       "    </tr>\n",
       "    <tr>\n",
       "      <th>2</th>\n",
       "      <td>10003</td>\n",
       "      <td>1959-12-03</td>\n",
       "      <td>Parto</td>\n",
       "      <td>Bamford</td>\n",
       "      <td>0</td>\n",
       "      <td>1986-08-28</td>\n",
       "      <td>40006</td>\n",
       "      <td>Senior Engineer</td>\n",
       "      <td>d004</td>\n",
       "      <td>27.0</td>\n",
       "    </tr>\n",
       "    <tr>\n",
       "      <th>3</th>\n",
       "      <td>10004</td>\n",
       "      <td>1954-05-01</td>\n",
       "      <td>Chirstian</td>\n",
       "      <td>Koblick</td>\n",
       "      <td>0</td>\n",
       "      <td>1986-12-01</td>\n",
       "      <td>40054</td>\n",
       "      <td>Engineer</td>\n",
       "      <td>d004</td>\n",
       "      <td>33.0</td>\n",
       "    </tr>\n",
       "    <tr>\n",
       "      <th>4</th>\n",
       "      <td>10005</td>\n",
       "      <td>1955-01-21</td>\n",
       "      <td>Kyoichi</td>\n",
       "      <td>Maliniak</td>\n",
       "      <td>0</td>\n",
       "      <td>1989-09-12</td>\n",
       "      <td>78228</td>\n",
       "      <td>Senior Staff</td>\n",
       "      <td>d003</td>\n",
       "      <td>35.0</td>\n",
       "    </tr>\n",
       "  </tbody>\n",
       "</table>\n",
       "</div>"
      ],
      "text/plain": [
       "   emp_no birth_date first_name last_name  gender  hire_date  salary  \\\n",
       "0   10001 1953-09-02     Georgi   Facello       0 1986-06-26   60117   \n",
       "1   10002 1964-06-02    Bezalel    Simmel       1 1985-11-21   65828   \n",
       "2   10003 1959-12-03      Parto   Bamford       0 1986-08-28   40006   \n",
       "3   10004 1954-05-01  Chirstian   Koblick       0 1986-12-01   40054   \n",
       "4   10005 1955-01-21    Kyoichi  Maliniak       0 1989-09-12   78228   \n",
       "\n",
       "             title dept_no   age  \n",
       "0  Senior Engineer    d005  33.0  \n",
       "1            Staff    d007  21.0  \n",
       "2  Senior Engineer    d004  27.0  \n",
       "3         Engineer    d004  33.0  \n",
       "4     Senior Staff    d003  35.0  "
      ]
     },
     "execution_count": 21,
     "metadata": {},
     "output_type": "execute_result"
    }
   ],
   "source": [
    "# converting age to numerical 0 for male and 1 for female \n",
    "dataset['gender'].replace(to_replace=['M','F'],value = [0,1],inplace = True)\n",
    "dataset.head()"
   ]
  },
  {
   "cell_type": "code",
   "execution_count": 22,
   "id": "715c2b1d",
   "metadata": {},
   "outputs": [
    {
     "data": {
      "image/png": "[encoded data removed]",
      "text/plain": [
       "<Figure size 1152x720 with 2 Axes>"
      ]
     },
     "metadata": {
      "needs_background": "light"
     },
     "output_type": "display_data"
    }
   ],
   "source": [
    "# features correlation \n",
    "plt.figure(figsize = (16, 10))\n",
    "sns.heatmap(dataset.corr(), annot = True, cmap=\"YlGnBu\")\n",
    "plt.show()"
   ]
  },
  {
   "cell_type": "markdown",
   "id": "3880d586",
   "metadata": {},
   "source": [
    "### we need to make a cluster for the employees based on the age and salary"
   ]
  },
  {
   "cell_type": "code",
   "execution_count": 59,
   "id": "1029f8b9",
   "metadata": {},
   "outputs": [],
   "source": [
    "Z = dataset.iloc[:,[6,9]].values"
   ]
  },
  {
   "cell_type": "markdown",
   "id": "066701b6",
   "metadata": {},
   "source": [
    "### Using the elbow method to find the optimal number of clusters"
   ]
  },
  {
   "cell_type": "code",
   "execution_count": 60,
   "id": "b15fd323",
   "metadata": {},
   "outputs": [
    {
     "data": {
      "image/png": "[encoded data removed]",
      "text/plain": [
       "<Figure size 432x288 with 1 Axes>"
      ]
     },
     "metadata": {
      "needs_background": "light"
     },
     "output_type": "display_data"
    }
   ],
   "source": [
    "from sklearn.cluster import KMeans\n",
    "wcss = []\n",
    "for i in range(1, 11):\n",
    "    kmeans = KMeans(n_clusters = i, init = 'k-means++', random_state = 42)\n",
    "    kmeans.fit(Z)\n",
    "    wcss.append(kmeans.inertia_)\n",
    "plt.plot(range(1, 11), wcss)\n",
    "plt.title('The Elbow Method')\n",
    "plt.xlabel('Number of clusters')\n",
    "plt.ylabel('WCSS')\n",
    "plt.show()"
   ]
  },
  {
   "cell_type": "markdown",
   "id": "b8ea9107",
   "metadata": {},
   "source": [
    "### Training the K-Means model on the dataset"
   ]
  },
  {
   "cell_type": "code",
   "execution_count": 61,
   "id": "8c55497e",
   "metadata": {},
   "outputs": [],
   "source": [
    "kmeans = KMeans(n_clusters = 4, init = 'k-means++', random_state = 42) # will go for 4 clusters \n",
    "y_kmeans = kmeans.fit_predict(Z)"
   ]
  },
  {
   "cell_type": "markdown",
   "id": "045c20b3",
   "metadata": {},
   "source": [
    "### Visualising the clusters"
   ]
  },
  {
   "cell_type": "code",
   "execution_count": 67,
   "id": "d842749a",
   "metadata": {},
   "outputs": [
    {
     "data": {
      "image/png": "[encoded data removed]",
      "text/plain": [
       "<Figure size 432x288 with 1 Axes>"
      ]
     },
     "metadata": {
      "needs_background": "light"
     },
     "output_type": "display_data"
    },
    {
     "data": {
      "text/plain": [
       "<Figure size 1152x1440 with 0 Axes>"
      ]
     },
     "metadata": {},
     "output_type": "display_data"
    }
   ],
   "source": [
    "plt.scatter(Z[y_kmeans == 0, 0], Z[y_kmeans == 0, 1], s = 100, c = 'red', label = 'Cluster 1')\n",
    "plt.scatter(Z[y_kmeans == 1, 0], Z[y_kmeans == 1, 1], s = 100, c = 'blue', label = 'Cluster 2')\n",
    "plt.scatter(Z[y_kmeans == 2, 0], Z[y_kmeans == 2, 1], s = 100, c = 'green', label = 'Cluster 3')\n",
    "plt.scatter(Z[y_kmeans == 3, 0], Z[y_kmeans == 3, 1], s = 100, c = 'cyan', label = 'Cluster 4')\n",
    "plt.scatter(kmeans.cluster_centers_[:, 0], kmeans.cluster_centers_[:, 1], s = 300, c = 'yellow', label = 'Centroids')\n",
    "plt.title('Clusters of employees')\n",
    "plt.xlabel('salary')\n",
    "plt.ylabel('age')\n",
    "plt.legend()\n",
    "plt.show()"
   ]
  },
  {
   "cell_type": "markdown",
   "id": "8de57c6e",
   "metadata": {},
   "source": [
    "### converting categorical variables "
   ]
  },
  {
   "cell_type": "code",
   "execution_count": 27,
   "id": "b5cf7968",
   "metadata": {},
   "outputs": [
    {
     "data": {
      "text/html": [
       "<div>\n",
       "<style scoped>\n",
       "    .dataframe tbody tr th:only-of-type {\n",
       "        vertical-align: middle;\n",
       "    }\n",
       "\n",
       "    .dataframe tbody tr th {\n",
       "        vertical-align: top;\n",
       "    }\n",
       "\n",
       "    .dataframe thead th {\n",
       "        text-align: right;\n",
       "    }\n",
       "</style>\n",
       "<table border=\"1\" class=\"dataframe\">\n",
       "  <thead>\n",
       "    <tr style=\"text-align: right;\">\n",
       "      <th></th>\n",
       "      <th>gender</th>\n",
       "      <th>age</th>\n",
       "    </tr>\n",
       "  </thead>\n",
       "  <tbody>\n",
       "    <tr>\n",
       "      <th>0</th>\n",
       "      <td>0</td>\n",
       "      <td>33.0</td>\n",
       "    </tr>\n",
       "    <tr>\n",
       "      <th>1</th>\n",
       "      <td>1</td>\n",
       "      <td>21.0</td>\n",
       "    </tr>\n",
       "    <tr>\n",
       "      <th>2</th>\n",
       "      <td>0</td>\n",
       "      <td>27.0</td>\n",
       "    </tr>\n",
       "    <tr>\n",
       "      <th>3</th>\n",
       "      <td>0</td>\n",
       "      <td>33.0</td>\n",
       "    </tr>\n",
       "    <tr>\n",
       "      <th>4</th>\n",
       "      <td>0</td>\n",
       "      <td>35.0</td>\n",
       "    </tr>\n",
       "  </tbody>\n",
       "</table>\n",
       "</div>"
      ],
      "text/plain": [
       "   gender   age\n",
       "0       0  33.0\n",
       "1       1  21.0\n",
       "2       0  27.0\n",
       "3       0  33.0\n",
       "4       0  35.0"
      ]
     },
     "execution_count": 27,
     "metadata": {},
     "output_type": "execute_result"
    }
   ],
   "source": [
    "Features =dataset [['gender','age']]\n",
    "Features.head()"
   ]
  },
  {
   "cell_type": "code",
   "execution_count": 28,
   "id": "e74fcbee",
   "metadata": {},
   "outputs": [
    {
     "data": {
      "text/html": [
       "<div>\n",
       "<style scoped>\n",
       "    .dataframe tbody tr th:only-of-type {\n",
       "        vertical-align: middle;\n",
       "    }\n",
       "\n",
       "    .dataframe tbody tr th {\n",
       "        vertical-align: top;\n",
       "    }\n",
       "\n",
       "    .dataframe thead th {\n",
       "        text-align: right;\n",
       "    }\n",
       "</style>\n",
       "<table border=\"1\" class=\"dataframe\">\n",
       "  <thead>\n",
       "    <tr style=\"text-align: right;\">\n",
       "      <th></th>\n",
       "      <th>gender</th>\n",
       "      <th>age</th>\n",
       "      <th>Assistant Engineer</th>\n",
       "      <th>Engineer</th>\n",
       "      <th>Senior Engineer</th>\n",
       "      <th>Senior Staff</th>\n",
       "      <th>Staff</th>\n",
       "      <th>Technique Leader</th>\n",
       "    </tr>\n",
       "  </thead>\n",
       "  <tbody>\n",
       "    <tr>\n",
       "      <th>0</th>\n",
       "      <td>0</td>\n",
       "      <td>33.0</td>\n",
       "      <td>0</td>\n",
       "      <td>0</td>\n",
       "      <td>1</td>\n",
       "      <td>0</td>\n",
       "      <td>0</td>\n",
       "      <td>0</td>\n",
       "    </tr>\n",
       "    <tr>\n",
       "      <th>1</th>\n",
       "      <td>1</td>\n",
       "      <td>21.0</td>\n",
       "      <td>0</td>\n",
       "      <td>0</td>\n",
       "      <td>0</td>\n",
       "      <td>0</td>\n",
       "      <td>1</td>\n",
       "      <td>0</td>\n",
       "    </tr>\n",
       "    <tr>\n",
       "      <th>2</th>\n",
       "      <td>0</td>\n",
       "      <td>27.0</td>\n",
       "      <td>0</td>\n",
       "      <td>0</td>\n",
       "      <td>1</td>\n",
       "      <td>0</td>\n",
       "      <td>0</td>\n",
       "      <td>0</td>\n",
       "    </tr>\n",
       "    <tr>\n",
       "      <th>3</th>\n",
       "      <td>0</td>\n",
       "      <td>33.0</td>\n",
       "      <td>0</td>\n",
       "      <td>1</td>\n",
       "      <td>0</td>\n",
       "      <td>0</td>\n",
       "      <td>0</td>\n",
       "      <td>0</td>\n",
       "    </tr>\n",
       "    <tr>\n",
       "      <th>4</th>\n",
       "      <td>0</td>\n",
       "      <td>35.0</td>\n",
       "      <td>0</td>\n",
       "      <td>0</td>\n",
       "      <td>0</td>\n",
       "      <td>1</td>\n",
       "      <td>0</td>\n",
       "      <td>0</td>\n",
       "    </tr>\n",
       "  </tbody>\n",
       "</table>\n",
       "</div>"
      ],
      "text/plain": [
       "   gender   age  Assistant Engineer  Engineer  Senior Engineer  Senior Staff  \\\n",
       "0       0  33.0                   0         0                1             0   \n",
       "1       1  21.0                   0         0                0             0   \n",
       "2       0  27.0                   0         0                1             0   \n",
       "3       0  33.0                   0         1                0             0   \n",
       "4       0  35.0                   0         0                0             1   \n",
       "\n",
       "   Staff  Technique Leader  \n",
       "0      0                 0  \n",
       "1      1                 0  \n",
       "2      0                 0  \n",
       "3      0                 0  \n",
       "4      0                 0  "
      ]
     },
     "execution_count": 28,
     "metadata": {},
     "output_type": "execute_result"
    }
   ],
   "source": [
    "# dummy variable \n",
    "Features = pd.concat([Features,pd.get_dummies(dataset['title'])], axis=1)\n",
    "Features.drop(['Manager'], axis = 1,inplace=True)\n",
    "Features.head()"
   ]
  },
  {
   "cell_type": "code",
   "execution_count": 29,
   "id": "334dd0ef",
   "metadata": {},
   "outputs": [
    {
     "data": {
      "text/html": [
       "<div>\n",
       "<style scoped>\n",
       "    .dataframe tbody tr th:only-of-type {\n",
       "        vertical-align: middle;\n",
       "    }\n",
       "\n",
       "    .dataframe tbody tr th {\n",
       "        vertical-align: top;\n",
       "    }\n",
       "\n",
       "    .dataframe thead th {\n",
       "        text-align: right;\n",
       "    }\n",
       "</style>\n",
       "<table border=\"1\" class=\"dataframe\">\n",
       "  <thead>\n",
       "    <tr style=\"text-align: right;\">\n",
       "      <th></th>\n",
       "      <th>gender</th>\n",
       "      <th>age</th>\n",
       "      <th>Assistant Engineer</th>\n",
       "      <th>Engineer</th>\n",
       "      <th>Senior Engineer</th>\n",
       "      <th>Senior Staff</th>\n",
       "      <th>Staff</th>\n",
       "      <th>Technique Leader</th>\n",
       "      <th>d001</th>\n",
       "      <th>d002</th>\n",
       "      <th>d003</th>\n",
       "      <th>d004</th>\n",
       "      <th>d005</th>\n",
       "      <th>d006</th>\n",
       "      <th>d007</th>\n",
       "      <th>d008</th>\n",
       "      <th>d009</th>\n",
       "    </tr>\n",
       "  </thead>\n",
       "  <tbody>\n",
       "    <tr>\n",
       "      <th>0</th>\n",
       "      <td>0</td>\n",
       "      <td>33.0</td>\n",
       "      <td>0</td>\n",
       "      <td>0</td>\n",
       "      <td>1</td>\n",
       "      <td>0</td>\n",
       "      <td>0</td>\n",
       "      <td>0</td>\n",
       "      <td>0</td>\n",
       "      <td>0</td>\n",
       "      <td>0</td>\n",
       "      <td>0</td>\n",
       "      <td>1</td>\n",
       "      <td>0</td>\n",
       "      <td>0</td>\n",
       "      <td>0</td>\n",
       "      <td>0</td>\n",
       "    </tr>\n",
       "    <tr>\n",
       "      <th>1</th>\n",
       "      <td>1</td>\n",
       "      <td>21.0</td>\n",
       "      <td>0</td>\n",
       "      <td>0</td>\n",
       "      <td>0</td>\n",
       "      <td>0</td>\n",
       "      <td>1</td>\n",
       "      <td>0</td>\n",
       "      <td>0</td>\n",
       "      <td>0</td>\n",
       "      <td>0</td>\n",
       "      <td>0</td>\n",
       "      <td>0</td>\n",
       "      <td>0</td>\n",
       "      <td>1</td>\n",
       "      <td>0</td>\n",
       "      <td>0</td>\n",
       "    </tr>\n",
       "    <tr>\n",
       "      <th>2</th>\n",
       "      <td>0</td>\n",
       "      <td>27.0</td>\n",
       "      <td>0</td>\n",
       "      <td>0</td>\n",
       "      <td>1</td>\n",
       "      <td>0</td>\n",
       "      <td>0</td>\n",
       "      <td>0</td>\n",
       "      <td>0</td>\n",
       "      <td>0</td>\n",
       "      <td>0</td>\n",
       "      <td>1</td>\n",
       "      <td>0</td>\n",
       "      <td>0</td>\n",
       "      <td>0</td>\n",
       "      <td>0</td>\n",
       "      <td>0</td>\n",
       "    </tr>\n",
       "    <tr>\n",
       "      <th>3</th>\n",
       "      <td>0</td>\n",
       "      <td>33.0</td>\n",
       "      <td>0</td>\n",
       "      <td>1</td>\n",
       "      <td>0</td>\n",
       "      <td>0</td>\n",
       "      <td>0</td>\n",
       "      <td>0</td>\n",
       "      <td>0</td>\n",
       "      <td>0</td>\n",
       "      <td>0</td>\n",
       "      <td>1</td>\n",
       "      <td>0</td>\n",
       "      <td>0</td>\n",
       "      <td>0</td>\n",
       "      <td>0</td>\n",
       "      <td>0</td>\n",
       "    </tr>\n",
       "    <tr>\n",
       "      <th>4</th>\n",
       "      <td>0</td>\n",
       "      <td>35.0</td>\n",
       "      <td>0</td>\n",
       "      <td>0</td>\n",
       "      <td>0</td>\n",
       "      <td>1</td>\n",
       "      <td>0</td>\n",
       "      <td>0</td>\n",
       "      <td>0</td>\n",
       "      <td>0</td>\n",
       "      <td>1</td>\n",
       "      <td>0</td>\n",
       "      <td>0</td>\n",
       "      <td>0</td>\n",
       "      <td>0</td>\n",
       "      <td>0</td>\n",
       "      <td>0</td>\n",
       "    </tr>\n",
       "  </tbody>\n",
       "</table>\n",
       "</div>"
      ],
      "text/plain": [
       "   gender   age  Assistant Engineer  Engineer  Senior Engineer  Senior Staff  \\\n",
       "0       0  33.0                   0         0                1             0   \n",
       "1       1  21.0                   0         0                0             0   \n",
       "2       0  27.0                   0         0                1             0   \n",
       "3       0  33.0                   0         1                0             0   \n",
       "4       0  35.0                   0         0                0             1   \n",
       "\n",
       "   Staff  Technique Leader  d001  d002  d003  d004  d005  d006  d007  d008  \\\n",
       "0      0                 0     0     0     0     0     1     0     0     0   \n",
       "1      1                 0     0     0     0     0     0     0     1     0   \n",
       "2      0                 0     0     0     0     1     0     0     0     0   \n",
       "3      0                 0     0     0     0     1     0     0     0     0   \n",
       "4      0                 0     0     0     1     0     0     0     0     0   \n",
       "\n",
       "   d009  \n",
       "0     0  \n",
       "1     0  \n",
       "2     0  \n",
       "3     0  \n",
       "4     0  "
      ]
     },
     "execution_count": 29,
     "metadata": {},
     "output_type": "execute_result"
    }
   ],
   "source": [
    "Features = pd.concat([Features,pd.get_dummies(dataset['dept_no'])], axis=1)\n",
    "Features.head()"
   ]
  },
  {
   "cell_type": "code",
   "execution_count": 30,
   "id": "72362928",
   "metadata": {},
   "outputs": [
    {
     "data": {
      "text/plain": [
       "array([60117, 65828, 40006, 40054, 78228], dtype=int64)"
      ]
     },
     "execution_count": 30,
     "metadata": {},
     "output_type": "execute_result"
    }
   ],
   "source": [
    "#setting features and target \n",
    "X = Features\n",
    "Y = dataset['salary'].values\n",
    "Y[:5]"
   ]
  },
  {
   "cell_type": "markdown",
   "id": "37639dec",
   "metadata": {},
   "source": [
    "### Train Test split"
   ]
  },
  {
   "cell_type": "code",
   "execution_count": 31,
   "id": "22579d9a",
   "metadata": {},
   "outputs": [],
   "source": [
    "from sklearn.model_selection import train_test_split\n",
    "\n",
    "X_train, X_test, Y_train, Y_test = train_test_split(X, Y, test_size=.1)"
   ]
  },
  {
   "cell_type": "code",
   "execution_count": 32,
   "id": "8029f557",
   "metadata": {},
   "outputs": [
    {
     "data": {
      "text/plain": [
       "array([[-0.81839619,  0.28938885, -0.23180655, -0.73826305,  3.01791888,\n",
       "        -0.66880655, -0.39805097, -0.23239415, -0.26630215, -0.24819846,\n",
       "        -0.23262886, -0.57096759,  1.63971394, -0.22773119, -0.43392327,\n",
       "        -0.22835097, -0.2297524 ],\n",
       "       [ 1.22190207, -2.04372134, -0.23180655, -0.73826305, -0.33135417,\n",
       "        -0.66880655,  2.51224109, -0.23239415, -0.26630215, -0.24819846,\n",
       "        -0.23262886, -0.57096759, -0.60986247, -0.22773119,  2.30455491,\n",
       "        -0.22835097, -0.2297524 ],\n",
       "       [-0.81839619, -0.87716625, -0.23180655, -0.73826305,  3.01791888,\n",
       "        -0.66880655, -0.39805097, -0.23239415, -0.26630215, -0.24819846,\n",
       "        -0.23262886,  1.7514129 , -0.60986247, -0.22773119, -0.43392327,\n",
       "        -0.22835097, -0.2297524 ],\n",
       "       [-0.81839619,  0.28938885, -0.23180655,  1.35453075, -0.33135417,\n",
       "        -0.66880655, -0.39805097, -0.23239415, -0.26630215, -0.24819846,\n",
       "        -0.23262886,  1.7514129 , -0.60986247, -0.22773119, -0.43392327,\n",
       "        -0.22835097, -0.2297524 ],\n",
       "       [-0.81839619,  0.67824054, -0.23180655, -0.73826305, -0.33135417,\n",
       "         1.49520068, -0.39805097, -0.23239415, -0.26630215, -0.24819846,\n",
       "         4.29869283, -0.57096759, -0.60986247, -0.22773119, -0.43392327,\n",
       "        -0.22835097, -0.2297524 ]])"
      ]
     },
     "execution_count": 32,
     "metadata": {},
     "output_type": "execute_result"
    }
   ],
   "source": [
    "#scaling the features \n",
    "from sklearn import preprocessing\n",
    "X= preprocessing.StandardScaler().fit(X).transform(X)\n",
    "X[0:5]"
   ]
  },
  {
   "cell_type": "markdown",
   "id": "e6ff8c0a",
   "metadata": {},
   "source": [
    "### Evaluation metrics"
   ]
  },
  {
   "cell_type": "code",
   "execution_count": 44,
   "id": "ea64857f",
   "metadata": {},
   "outputs": [],
   "source": [
    "from sklearn import metrics\n",
    "\n",
    "def print_evaluate(true, predicted):  \n",
    "    mae = metrics.mean_absolute_error(true, predicted)\n",
    "    mse = metrics.mean_squared_error(true, predicted)\n",
    "    rmse = np.sqrt(metrics.mean_squared_error(true, predicted))\n",
    "    r2_square = metrics.r2_score(true, predicted)\n",
    "    print('MAE:', mae)\n",
    "    print('MSE:', mse)\n",
    "    print('RMSE:', rmse)\n",
    "    print('R2 Square', r2_square)\n",
    "    print('__________________________________')\n",
    "    "
   ]
  },
  {
   "cell_type": "code",
   "execution_count": 41,
   "id": "1ce99dd0",
   "metadata": {},
   "outputs": [
    {
     "data": {
      "text/plain": [
       "LinearRegression()"
      ]
     },
     "execution_count": 41,
     "metadata": {},
     "output_type": "execute_result"
    }
   ],
   "source": [
    "from sklearn.linear_model import LinearRegression\n",
    "\n",
    "lin_reg = LinearRegression()\n",
    "lin_reg.fit(X_train,Y_train)"
   ]
  },
  {
   "cell_type": "code",
   "execution_count": 45,
   "id": "b2709ed7",
   "metadata": {},
   "outputs": [
    {
     "name": "stdout",
     "output_type": "stream",
     "text": [
      "Test set evaluation:\n",
      "_____________________________________\n",
      "MAE: 9043.77987442033\n",
      "MSE: 129479863.72594881\n",
      "RMSE: 11378.921905257494\n",
      "R2 Square 0.37087072142615307\n",
      "__________________________________\n",
      "Train set evaluation:\n",
      "_____________________________________\n",
      "MAE: 9061.97182702104\n",
      "MSE: 130491199.02365081\n",
      "RMSE: 11423.274444030958\n",
      "R2 Square 0.3644614268204607\n",
      "__________________________________\n"
     ]
    }
   ],
   "source": [
    "test_pred = lin_reg.predict(X_test)\n",
    "train_pred = lin_reg.predict(X_train)\n",
    "\n",
    "print('Test set evaluation:\\n_____________________________________')\n",
    "print_evaluate(Y_test, test_pred)\n",
    "print('Train set evaluation:\\n_____________________________________')\n",
    "print_evaluate(Y_train, train_pred)\n",
    "\n"
   ]
  },
  {
   "cell_type": "markdown",
   "id": "82c23eee",
   "metadata": {},
   "source": [
    "#### Features importance for the lin reg"
   ]
  },
  {
   "cell_type": "code",
   "execution_count": 72,
   "id": "e7c05723",
   "metadata": {},
   "outputs": [
    {
     "name": "stdout",
     "output_type": "stream",
     "text": [
      "Feature: 0, Score: -50.91568\n",
      "Feature: 1, Score: -1.23363\n",
      "Feature: 2, Score: 771.46058\n",
      "Feature: 3, Score: 746.08263\n",
      "Feature: 4, Score: 742.71625\n",
      "Feature: 5, Score: -1838.32777\n",
      "Feature: 6, Score: -1839.51922\n",
      "Feature: 7, Score: 953.22554\n",
      "Feature: 8, Score: 9570.34202\n",
      "Feature: 9, Score: 7874.50963\n",
      "Feature: 10, Score: -7585.05788\n",
      "Feature: 11, Score: -5288.24124\n",
      "Feature: 12, Score: -5224.03668\n",
      "Feature: 13, Score: -8003.30877\n",
      "Feature: 14, Score: 18772.08037\n",
      "Feature: 15, Score: -2539.90431\n",
      "Feature: 16, Score: -7576.38314\n"
     ]
    },
    {
     "data": {
      "image/png": "[encoded data removed]",
      "text/plain": [
       "<Figure size 432x288 with 1 Axes>"
      ]
     },
     "metadata": {
      "needs_background": "light"
     },
     "output_type": "display_data"
    }
   ],
   "source": [
    "from matplotlib import pyplot\n",
    "importance = lin_reg.coef_\n",
    "# summarize feature importance\n",
    "for i,v in enumerate(importance):\n",
    "    print('Feature: %0d, Score: %.5f' % (i,v))\n",
    "# plot feature importance\n",
    "pyplot.bar([x for x in range(len(impoxrtance))], importance)\n",
    "pyplot.show()"
   ]
  },
  {
   "cell_type": "code",
   "execution_count": 48,
   "id": "c2dfe2fe",
   "metadata": {},
   "outputs": [
    {
     "name": "stdout",
     "output_type": "stream",
     "text": [
      "Test set evaluation:\n",
      "_____________________________________\n",
      "MAE: 9075.868153713267\n",
      "MSE: 129586998.65650111\n",
      "RMSE: 11383.628536477336\n",
      "R2 Square 0.37035016386894803\n",
      "__________________________________\n",
      "====================================\n",
      "Train set evaluation:\n",
      "_____________________________________\n",
      "MAE: 9094.913048884657\n",
      "MSE: 130621014.57039382\n",
      "RMSE: 11428.955095300436\n",
      "R2 Square 0.36382917891431177\n",
      "__________________________________\n"
     ]
    }
   ],
   "source": [
    "from sklearn.linear_model import SGDRegressor\n",
    "\n",
    "sgd_reg = SGDRegressor(n_iter_no_change=250, penalty=None, eta0=0.0001, max_iter=100000)\n",
    "sgd_reg.fit(X_train, Y_train)\n",
    "\n",
    "test_pred = sgd_reg.predict(X_test)\n",
    "train_pred = sgd_reg.predict(X_train)\n",
    "\n",
    "print('Test set evaluation:\\n_____________________________________')\n",
    "print_evaluate(Y_test, test_pred)\n",
    "print('====================================')\n",
    "print('Train set evaluation:\\n_____________________________________')\n",
    "print_evaluate(Y_train, train_pred)"
   ]
  },
  {
   "cell_type": "code",
   "execution_count": 74,
   "id": "bf534aa8",
   "metadata": {},
   "outputs": [
    {
     "name": "stdout",
     "output_type": "stream",
     "text": [
      "Feature: 0, Score: -43.81570\n",
      "Feature: 1, Score: 6.22523\n",
      "Feature: 2, Score: 6571.03000\n",
      "Feature: 3, Score: 6604.98109\n",
      "Feature: 4, Score: 6577.47716\n",
      "Feature: 5, Score: 6792.69990\n",
      "Feature: 6, Score: 6815.73245\n",
      "Feature: 7, Score: 6752.28113\n",
      "Feature: 8, Score: 13167.09435\n",
      "Feature: 9, Score: 11463.00831\n",
      "Feature: 10, Score: -4004.57362\n",
      "Feature: 11, Score: 1113.10085\n",
      "Feature: 12, Score: 1180.10568\n",
      "Feature: 13, Score: -1417.82211\n",
      "Feature: 14, Score: 22399.65054\n",
      "Feature: 15, Score: 1037.55531\n",
      "Feature: 16, Score: -3994.77261\n"
     ]
    },
    {
     "data": {
      "image/png": "[encoded data removed]",
      "text/plain": [
       "<Figure size 432x288 with 1 Axes>"
      ]
     },
     "metadata": {
      "needs_background": "light"
     },
     "output_type": "display_data"
    }
   ],
   "source": [
    "from matplotlib import pyplot\n",
    "importance = sgd_reg.coef_\n",
    "# summarize feature importance\n",
    "for i,v in enumerate(importance):\n",
    "    print('Feature: %0d, Score: %.5f' % (i,v))\n",
    "# plot feature importance\n",
    "pyplot.bar([x for x in range(len(importance))], importance)\n",
    "pyplot.show()"
   ]
  },
  {
   "cell_type": "code",
   "execution_count": 68,
   "id": "4757a940",
   "metadata": {},
   "outputs": [
    {
     "name": "stdout",
     "output_type": "stream",
     "text": [
      "Test set evaluation:\n",
      "_____________________________________\n",
      "MAE: 9058.688298444775\n",
      "MSE: 129500936.96452288\n",
      "RMSE: 11379.847844524234\n",
      "R2 Square 0.37076832873743837\n",
      "__________________________________\n",
      "====================================\n",
      "Train set evaluation:\n",
      "_____________________________________\n",
      "MAE: 9076.868225964972\n",
      "MSE: 130528443.9328696\n",
      "RMSE: 11424.904548085713\n",
      "R2 Square 0.3642800308593521\n",
      "__________________________________\n"
     ]
    }
   ],
   "source": [
    "from sklearn.linear_model import Ridge\n",
    "\n",
    "model = Ridge(alpha=100, solver='cholesky', tol=0.0001, random_state=42)\n",
    "model.fit(X_train, Y_train)\n",
    "pred = model.predict(X_test)\n",
    "\n",
    "test_pred = model.predict(X_test)\n",
    "train_pred = model.predict(X_train)\n",
    "\n",
    "print('Test set evaluation:\\n_____________________________________')\n",
    "print_evaluate(Y_test, test_pred)\n",
    "print('====================================')\n",
    "print('Train set evaluation:\\n_____________________________________')\n",
    "print_evaluate(Y_train, train_pred)"
   ]
  },
  {
   "cell_type": "code",
   "execution_count": 77,
   "id": "88e57328",
   "metadata": {},
   "outputs": [
    {
     "name": "stdout",
     "output_type": "stream",
     "text": [
      "Feature: 0, Score: -48.84133\n",
      "Feature: 1, Score: -1.44888\n",
      "Feature: 2, Score: 320.30851\n",
      "Feature: 3, Score: 300.68433\n",
      "Feature: 4, Score: 296.09799\n",
      "Feature: 5, Score: -758.85434\n",
      "Feature: 6, Score: -754.58655\n",
      "Feature: 7, Score: 498.48761\n",
      "Feature: 8, Score: 8901.71749\n",
      "Feature: 9, Score: 7215.94251\n",
      "Feature: 10, Score: -7939.67037\n",
      "Feature: 11, Score: -4301.00392\n",
      "Feature: 12, Score: -4235.92773\n",
      "Feature: 13, Score: -6845.60498\n",
      "Feature: 14, Score: 18125.06199\n",
      "Feature: 15, Score: -2995.90776\n",
      "Feature: 16, Score: -7924.60724\n"
     ]
    },
    {
     "data": {
      "image/png": "[encoded data removed]",
      "text/plain": [
       "<Figure size 432x288 with 1 Axes>"
      ]
     },
     "metadata": {
      "needs_background": "light"
     },
     "output_type": "display_data"
    }
   ],
   "source": [
    "from matplotlib import pyplot\n",
    "importance = model.coef_\n",
    "# summarize feature importance\n",
    "for i,v in enumerate(importance):\n",
    "    print('Feature: %0d, Score: %.5f' % (i,v))\n",
    "# plot feature importance\n",
    "pyplot.bar([x for x in range(len(importance))], importance)\n",
    "pyplot.show()"
   ]
  },
  {
   "cell_type": "code",
   "execution_count": 70,
   "id": "e71ea9fe",
   "metadata": {},
   "outputs": [
    {
     "name": "stdout",
     "output_type": "stream",
     "text": [
      "Test set evaluation:\n",
      "_____________________________________\n",
      "MAE: 9044.391452658498\n",
      "MSE: 129488359.3374601\n",
      "RMSE: 11379.295203898178\n",
      "R2 Square 0.370829442127679\n",
      "__________________________________\n",
      "====================================\n",
      "Train set evaluation:\n",
      "_____________________________________\n",
      "MAE: 9062.235156216833\n",
      "MSE: 130495458.64942509\n",
      "RMSE: 11423.460887551772\n",
      "R2 Square 0.3644406809271965\n",
      "__________________________________\n"
     ]
    }
   ],
   "source": [
    "from sklearn.linear_model import Lasso\n",
    "\n",
    "model2 = Lasso(alpha=0.1, \n",
    "              precompute=True, \n",
    " \n",
    "              positive=True, \n",
    "              selection='random',\n",
    "              random_state=42)\n",
    "model2.fit(X_train, Y_train)\n",
    "\n",
    "test_pred = model2.predict(X_test)\n",
    "train_pred = model2.predict(X_train)\n",
    "\n",
    "print('Test set evaluation:\\n_____________________________________')\n",
    "print_evaluate(Y_test, test_pred)\n",
    "print('====================================')\n",
    "print('Train set evaluation:\\n_____________________________________')\n",
    "print_evaluate(Y_train, train_pred)"
   ]
  },
  {
   "cell_type": "code",
   "execution_count": 78,
   "id": "f83e6233",
   "metadata": {},
   "outputs": [
    {
     "name": "stdout",
     "output_type": "stream",
     "text": [
      "Feature: 0, Score: 0.00000\n",
      "Feature: 1, Score: 0.00000\n",
      "Feature: 2, Score: 4477.68294\n",
      "Feature: 3, Score: 4456.93242\n",
      "Feature: 4, Score: 4448.63210\n",
      "Feature: 5, Score: 1867.08966\n",
      "Feature: 6, Score: 1864.01946\n",
      "Feature: 7, Score: 4658.13508\n",
      "Feature: 8, Score: 18626.12040\n",
      "Feature: 9, Score: 16930.21491\n",
      "Feature: 10, Score: 1471.69632\n",
      "Feature: 11, Score: 3767.14128\n",
      "Feature: 12, Score: 3828.73401\n",
      "Feature: 13, Score: 1053.09822\n",
      "Feature: 14, Score: 27828.16605\n",
      "Feature: 15, Score: 6516.51658\n",
      "Feature: 16, Score: 1481.00504\n"
     ]
    },
    {
     "data": {
      "image/png": "[encoded data removed]",
      "text/plain": [
       "<Figure size 432x288 with 1 Axes>"
      ]
     },
     "metadata": {
      "needs_background": "light"
     },
     "output_type": "display_data"
    }
   ],
   "source": [
    "from matplotlib import pyplot\n",
    "importance = model2.coef_\n",
    "# summarize feature importance\n",
    "for i,v in enumerate(importance):\n",
    "    print('Feature: %0d, Score: %.5f' % (i,v))\n",
    "# plot feature importance\n",
    "pyplot.bar([x for x in range(len(importance))], importance)\n",
    "pyplot.show()"
   ]
  },
  {
   "cell_type": "markdown",
   "id": "d12e9159",
   "metadata": {},
   "source": [
    "#### The R2 score for all models are not good enogh we defintely will need more items more related to the target like the numbers of the experience so the model could learn and give us better result but if we go for these score will go for lasso regressor most dummy features got correlated with the goal and consider less for MAE"
   ]
  }
 ],
 "metadata": {
  "kernelspec": {
   "display_name": "Python 3",
   "language": "python",
   "name": "python3"
  },
  "language_info": {
   "codemirror_mode": {
    "name": "ipython",
    "version": 3
   },
   "file_extension": ".py",
   "mimetype": "text/x-python",
   "name": "python",
   "nbconvert_exporter": "python",
   "pygments_lexer": "ipython3",
   "version": "3.8.8"
  }
 },
 "nbformat": 4,
 "nbformat_minor": 5
}
